{
 "cells": [
  {
   "cell_type": "code",
   "execution_count": null,
   "id": "2354cad0",
   "metadata": {},
   "outputs": [
    {
     "name": "stdout",
     "output_type": "stream",
     "text": [
      "Searching for 'coke can photo'\n"
     ]
    },
    {
     "ename": "DDGSException",
     "evalue": "No results found.",
     "output_type": "error",
     "traceback": [
      "\u001b[31m---------------------------------------------------------------------------\u001b[39m",
      "\u001b[31mDDGSException\u001b[39m                             Traceback (most recent call last)",
      "\u001b[36mCell\u001b[39m\u001b[36m \u001b[39m\u001b[32mIn[10]\u001b[39m\u001b[32m, line 26\u001b[39m\n\u001b[32m     23\u001b[39m     dest = (path/o.replace(\u001b[33m'\u001b[39m\u001b[33m \u001b[39m\u001b[33m'\u001b[39m, \u001b[33m'\u001b[39m\u001b[33m_\u001b[39m\u001b[33m'\u001b[39m))\n\u001b[32m     24\u001b[39m     dest.mkdir(exist_ok=\u001b[38;5;28;01mTrue\u001b[39;00m)\n\u001b[32m---> \u001b[39m\u001b[32m26\u001b[39m     urls = search_images(o)\n\u001b[32m     27\u001b[39m     download_images(dest, urls=urls, timeout=\u001b[32m10\u001b[39m)\n\u001b[32m     29\u001b[39m \u001b[38;5;66;03m# --- بخش بررسی عکس‌ها (بدون تغییر) ---\u001b[39;00m\n",
      "\u001b[36mCell\u001b[39m\u001b[36m \u001b[39m\u001b[32mIn[10]\u001b[39m\u001b[32m, line 12\u001b[39m, in \u001b[36msearch_images\u001b[39m\u001b[34m(term, max_images)\u001b[39m\n\u001b[32m     10\u001b[39m \u001b[38;5;66;03m# به جای هدر، یک زمان انتظار (timeout) به ثانیه مشخص می‌کنیم\u001b[39;00m\n\u001b[32m     11\u001b[39m \u001b[38;5;28;01mwith\u001b[39;00m DDGS(timeout=\u001b[32m20\u001b[39m) \u001b[38;5;28;01mas\u001b[39;00m ddgs: \u001b[38;5;66;03m# <--- تغییر اصلی اینجاست\u001b[39;00m\n\u001b[32m---> \u001b[39m\u001b[32m12\u001b[39m     results = ddgs.images(term, max_results=max_images)\n\u001b[32m     13\u001b[39m     \u001b[38;5;28;01mreturn\u001b[39;00m L(results).itemgot(\u001b[33m'\u001b[39m\u001b[33mimage\u001b[39m\u001b[33m'\u001b[39m)\n",
      "\u001b[36mFile \u001b[39m\u001b[32mc:\\Users\\alika\\anaconda3\\Lib\\site-packages\\ddgs\\ddgs.py:224\u001b[39m, in \u001b[36mDDGS.images\u001b[39m\u001b[34m(self, query, **kwargs)\u001b[39m\n\u001b[32m    222\u001b[39m \u001b[38;5;28;01mdef\u001b[39;00m \u001b[34mimages\u001b[39m(\u001b[38;5;28mself\u001b[39m, query: \u001b[38;5;28mstr\u001b[39m, **kwargs: Any) -> \u001b[38;5;28mlist\u001b[39m[\u001b[38;5;28mdict\u001b[39m[\u001b[38;5;28mstr\u001b[39m, Any]]:\n\u001b[32m    223\u001b[39m \u001b[38;5;250m    \u001b[39m\u001b[33;03m\"\"\"Perform an image search.\"\"\"\u001b[39;00m\n\u001b[32m--> \u001b[39m\u001b[32m224\u001b[39m     \u001b[38;5;28;01mreturn\u001b[39;00m \u001b[38;5;28mself\u001b[39m._search(\u001b[33m\"\u001b[39m\u001b[33mimages\u001b[39m\u001b[33m\"\u001b[39m, query, **kwargs)\n",
      "\u001b[36mFile \u001b[39m\u001b[32mc:\\Users\\alika\\anaconda3\\Lib\\site-packages\\ddgs\\ddgs.py:216\u001b[39m, in \u001b[36mDDGS._search\u001b[39m\u001b[34m(self, category, query, keywords, region, safesearch, timelimit, max_results, page, backend, **kwargs)\u001b[39m\n\u001b[32m    214\u001b[39m \u001b[38;5;28;01mif\u001b[39;00m \u001b[33m\"\u001b[39m\u001b[33mtimed out\u001b[39m\u001b[33m\"\u001b[39m \u001b[38;5;129;01min\u001b[39;00m \u001b[33mf\u001b[39m\u001b[33m\"\u001b[39m\u001b[38;5;132;01m{\u001b[39;00merr\u001b[38;5;132;01m}\u001b[39;00m\u001b[33m\"\u001b[39m:\n\u001b[32m    215\u001b[39m     \u001b[38;5;28;01mraise\u001b[39;00m TimeoutException(err)\n\u001b[32m--> \u001b[39m\u001b[32m216\u001b[39m \u001b[38;5;28;01mraise\u001b[39;00m DDGSException(err \u001b[38;5;129;01mor\u001b[39;00m \u001b[33m\"\u001b[39m\u001b[33mNo results found.\u001b[39m\u001b[33m\"\u001b[39m)\n",
      "\u001b[31mDDGSException\u001b[39m: No results found."
     ]
    }
   ],
   "source": []
  }
 ],
 "metadata": {
  "kernelspec": {
   "display_name": "base",
   "language": "python",
   "name": "python3"
  },
  "language_info": {
   "codemirror_mode": {
    "name": "ipython",
    "version": 3
   },
   "file_extension": ".py",
   "mimetype": "text/x-python",
   "name": "python",
   "nbconvert_exporter": "python",
   "pygments_lexer": "ipython3",
   "version": "3.12.7"
  }
 },
 "nbformat": 4,
 "nbformat_minor": 5
}
